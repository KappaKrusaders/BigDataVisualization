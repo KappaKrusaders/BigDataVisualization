{
 "cells": [
  {
   "cell_type": "code",
   "execution_count": 1,
   "metadata": {
    "collapsed": true,
    "deletable": true,
    "editable": true
   },
   "outputs": [],
   "source": [
    "from pymongo import MongoClient\n",
    "from pymongo.errors import OperationFailure\n",
    "\n",
    "import matplotlib.pyplot as plt\n",
    "\n",
    "import numpy as np\n",
    "import argparse\n",
    "import json"
   ]
  },
  {
   "cell_type": "code",
   "execution_count": 2,
   "metadata": {
    "collapsed": true,
    "deletable": true,
    "editable": true
   },
   "outputs": [],
   "source": [
    "# the list of wavelengths in increasing order\n",
    "wavelengths = [512.6, 518.4, 524.7, 530.4, 536.5, 542.8, 548.7, 554.5, 560.5,\n",
    "               566.7, 572.6, 578.5, 584.5, 590.6, 596.7, 602.5, 608.6, 614.6,\n",
    "               620.5, 626.7, 632.7, 638.6, 644.6, 650.6, 656.6, 662.6, 668.8,\n",
    "               674.7, 680.6, 686.7, 692.6, 698.6, 704.7, 710.8, 716.7, 722.7,\n",
    "               728.7, 734.7, 740.7, 746.8, 752.8, 758.7, 764.8, 770.7, 776.7,\n",
    "               782.7, 788.8, 794.7, 800.7, 806.8, 812.7, 818.7, 824.8, 830.8,\n",
    "               836.8, 842.8, 848.8, 854.6, 860.7, 866.7, 872.7, 878.7, 884.6,\n",
    "               890.7, 896.6, 902.7, 908.7, 914.6, 920.6, 926.6, 932.6, 938.6,\n",
    "               944.6, 950.6, 955.4, 963.5, 971.4, 979.7, 987.6, 993.7, 1013.1,\n",
    "               1019.5, 1027.7, 1035.5, 1043.6, 1051.7, 1059.7, 1067.8, 1075.8,\n",
    "               1083.6, 1091.8, 1099.7, 1107.7, 1115.9, 1123.8, 1131.8, 1139.7,\n",
    "               1147.8, 1155.7, 1163.8, 1171.8, 1179.8, 1187.8, 1195.8, 1203.9,\n",
    "               1211.9, 1219.8, 1227.9, 1235.9, 1244.0, 1252.0, 1259.8, 1267.8,\n",
    "               1275.9, 1284.2, 1292.0, 1299.8, 1307.8, 1315.9, 1323.8, 1331.8,\n",
    "               1339.8, 1347.8, 1355.8, 1363.8, 1371.8, 1379.8, 1387.8, 1395.9,\n",
    "               1403.8, 1411.8, 1419.8, 1427.9, 1435.7, 1443.8, 1451.9, 1459.8,\n",
    "               1467.8, 1475.8, 1483.9, 1491.8, 1499.8, 1507.8, 1515.7, 1523.8,\n",
    "               1531.7, 1539.7, 1547.7, 1555.5, 1563.7, 1571.7, 1579.6, 1587.7,\n",
    "               1595.7, 1603.7, 1611.7, 1620.1, 1628.1, 1636.1, 1644.2, 1717.6,\n",
    "               1725.6, 1733.7, 1742.0, 1749.7, 1757.7, 1766.3, 1773.6, 1782.2,\n",
    "               1789.8, 1797.6, 1805.8, 1813.7, 1822.0, 1830.0, 1837.6, 1845.6,\n",
    "               1853.7, 1861.8, 1870.1, 1877.3, 1885.7, 1893.7, 1901.5, 1910.0,\n",
    "               1918.0, 1925.3, 1934.3, 1948.8, 1957.6, 1965.9, 1973.3, 1981.3,\n",
    "               1989.4, 1997.7, 2005.8, 2013.0, 2021.5, 2029.3, 2037.4, 2045.8,\n",
    "               2053.3, 2061.3, 2069.4, 2077.0, 2085.5, 2093.0, 2101.9, 2109.2,\n",
    "               2117.0, 2125.4, 2132.9, 2141.5, 2149.0, 2156.8, 2165.2, 2172.8,\n",
    "               2181.0, 2189.4, 2196.8, 2204.7, 2213.0, 2221.2, 2228.7, 2236.8,\n",
    "               2245.0, 2252.5, 2260.7, 2269.2, 2276.6, 2284.7, 2292.7, 2300.4,\n",
    "               2308.9, 2316.4, 2324.0, 2332.6, 2340.6, 2348.3, 2356.2, 2364.6,\n",
    "               2372.2, 2380.2, 2388.5, 2396.2, 2404.2, 2412.2, 2420.2, 2428.0,\n",
    "               2436.3, 2444.3, 2451.9, 2460.1, 2467.9, 2476.0, 2484.1, 2492.6,\n",
    "               2500.1, 2508.1, 2516.1, 2524.1, 2532.1, 2540.0, 2548.0, 2556.0,\n",
    "               2564.0, 2572.0, 2579.9, 2587.9]\n",
    "\n",
    "spot_metadata_names = ['CALIBRATION', 'CENTER_LATITUDE', 'CENTER_LONGITUDE', 'CLOCK_COUNT_ERR_FLAG', 'DPU_TEMPERATURE', 'EMISSION_ANGLE', 'GEOMETRIC_INFO_RECAL_FLAG', 'HALOGEN_BULB_RADIANCE', 'HALOGEN_BULB_TEMPERATURE1', 'HALOGEN_BULB_TEMPERATURE2', 'HALOGEN_BULB_VOLTAGE1', 'HALOGEN_BULB_VOLTAGE2', 'INCIDENCE_ANGLE', 'NIR1_FOCAL_PLANE_TEMPERATURE', 'NIR2_FOCAL_PLANE_TEMPERATURE', 'PHASE_ANGLE', 'SOLAR_AZIMUTH_ANGLE', 'SPACECRAFT_ALTITUDE', 'SPACECRAFT_AZIMUTH', 'SPACECRAFT_CLOCK_COUNT', 'SPACECRAFT_GROUND_SPEED', 'SPATIAL_RESOLUTION_FLAG', 'SPECTROMETER_TEMPERATURE_1', 'SPECTROMETER_TEMPERATURE_2', 'SPECTROMETER_TEMPERATURE_3', 'SPECTROMETER_TEMPERATURE_4', 'SP_CAL_NIR_TEMPERATURE', 'SP_CAL_VIS_TEMPERATURE', 'SP_N2_RADIATOR_TEMPERATURE', 'SP_PELTIER', 'SP_PELTIER_HOT_TEMPERATURE', 'SP_POWER_M15V', 'SP_POWER_P15V', 'SP_POWER_P5V', 'SP_TEMPERATURE', 'SUB_SPACECRAFT_LATITUDE', 'SUB_SPACECRAFT_LONGITUDE', 'SUPPORT_IMAGE_COLUMN_POSITION', 'SUPPORT_IMAGE_LINE_POSITION', 'TC_MI_STATUS', 'THUMBNAIL_COLUMN_POSITION', 'THUMBNAIL_LINE_POSITION', 'VIS_FOCAL_PLANE_TEMPERATURE']"
   ]
  },
  {
   "cell_type": "code",
   "execution_count": 3,
   "metadata": {
    "collapsed": true,
    "deletable": true,
    "editable": true
   },
   "outputs": [],
   "source": [
    "def clamp_longitude(angle):\n",
    "    \"\"\"\n",
    "    Returns the angle limited to the range [-180, 180], the original\n",
    "    data is in the range [0,360] but mongo uses [-180,180].\n",
    "\n",
    "    Parameters\n",
    "    ----------\n",
    "    angle : float\n",
    "       The angle to clamp\n",
    "\n",
    "    Returns\n",
    "    -------\n",
    "    : float\n",
    "       The clamped angle\n",
    "    \"\"\"\n",
    "    return ((angle + 180) % 360) - 180\n",
    "\n",
    "\n",
    "def get_ordered_vals(dictionary):\n",
    "    \"\"\"\n",
    "    Given a dictionary, will return the values of the dictionary\n",
    "    such that they are in the order of their keys in acending order\n",
    "\n",
    "    Parameters\n",
    "    ----------\n",
    "    dinctionary : dict-like\n",
    "       The dictionary to get the values from\n",
    "\n",
    "    Returns\n",
    "    -------\n",
    "    : float\n",
    "       ordered list of values\n",
    "    \"\"\"\n",
    "    return np.array([dictionary[str(wavelen)] for wavelen in wavelengths], dtype='f4').tobytes()"
   ]
  },
  {
   "cell_type": "code",
   "execution_count": 151,
   "metadata": {
    "collapsed": false,
    "deletable": true,
    "editable": true
   },
   "outputs": [
    {
     "name": "stdout",
     "output_type": "stream",
     "text": [
      "Authentication for spectral_profiler & selene: OK\n"
     ]
    }
   ],
   "source": [
    "# Connect to the server\n",
    "client = MongoClient('chalupa', 27017)\n",
    "\n",
    "client.spectral_profiler.authenticate('selene', 'data')\n",
    "client.selene.authenticate('selene', 'data')\n",
    "\n",
    "print('Authentication for spectral_profiler & selene: OK')"
   ]
  },
  {
   "cell_type": "code",
   "execution_count": 152,
   "metadata": {
    "collapsed": true,
    "deletable": true,
    "editable": true
   },
   "outputs": [],
   "source": [
    "# Aliases for databases & collections\n",
    "sp = client.spectral_profiler\n",
    "spot_data = sp.spot_data\n",
    "image_data = sp.image_data\n",
    "\n"
   ]
  },
  {
   "cell_type": "code",
   "execution_count": 153,
   "metadata": {
    "collapsed": false,
    "deletable": true,
    "editable": true
   },
   "outputs": [
    {
     "name": "stdout",
     "output_type": "stream",
     "text": [
      "Getting counts, this may take a minute...\n"
     ]
    }
   ],
   "source": [
    "# Get all the data\n",
    "images = image_data.find()\n",
    "spots = spot_data.find()\n",
    "\n",
    "# Get all the counts\n",
    "print('Getting counts, this may take a minute...')\n",
    "image_count = images.count()\n",
    "spot_count = spots.count()"
   ]
  },
  {
   "cell_type": "code",
   "execution_count": 154,
   "metadata": {
    "collapsed": false,
    "deletable": true,
    "editable": true
   },
   "outputs": [
    {
     "name": "stdout",
     "output_type": "stream",
     "text": [
      "(19286,)\n"
     ]
    }
   ],
   "source": [
    "# preallocate the array used for insertion\n",
    "image_array = np.empty((image_count,))\n",
    "print(image_array.shape)"
   ]
  },
  {
   "cell_type": "code",
   "execution_count": null,
   "metadata": {
    "collapsed": false,
    "deletable": true,
    "editable": true
   },
   "outputs": [],
   "source": []
  },
  {
   "cell_type": "code",
   "execution_count": 155,
   "metadata": {
    "collapsed": true,
    "deletable": true,
    "editable": true
   },
   "outputs": [],
   "source": [
    "image_spots = {}\n",
    "images_searched = set()\n",
    "points = []"
   ]
  },
  {
   "cell_type": "code",
   "execution_count": 156,
   "metadata": {
    "collapsed": false,
    "deletable": true,
    "editable": true
   },
   "outputs": [],
   "source": [
    "def ancillary_to_bytes(data):\n",
    "    return np.array([data[name] for  name in spot_metadata_names], dtype='f4').tobytes()"
   ]
  },
  {
   "cell_type": "code",
   "execution_count": 158,
   "metadata": {
    "collapsed": false,
    "deletable": true,
    "editable": true,
    "scrolled": false
   },
   "outputs": [
    {
     "ename": "StopIteration",
     "evalue": "",
     "output_type": "error",
     "traceback": [
      "\u001b[0;31m---------------------------------------------------------------------------\u001b[0m",
      "\u001b[0;31mStopIteration\u001b[0m                             Traceback (most recent call last)",
      "\u001b[0;32m<ipython-input-158-bfa8b3aef321>\u001b[0m in \u001b[0;36m<module>\u001b[0;34m()\u001b[0m\n\u001b[1;32m      1\u001b[0m \u001b[0;31m# %%time\u001b[0m\u001b[0;34m\u001b[0m\u001b[0;34m\u001b[0m\u001b[0m\n\u001b[1;32m      2\u001b[0m \u001b[0;32mfor\u001b[0m \u001b[0mi\u001b[0m \u001b[0;32min\u001b[0m \u001b[0mrange\u001b[0m\u001b[0;34m(\u001b[0m\u001b[0mspot_count\u001b[0m\u001b[0;34m)\u001b[0m\u001b[0;34m:\u001b[0m\u001b[0;34m\u001b[0m\u001b[0m\n\u001b[0;32m----> 3\u001b[0;31m     \u001b[0mspot\u001b[0m \u001b[0;34m=\u001b[0m \u001b[0mspots\u001b[0m\u001b[0;34m.\u001b[0m\u001b[0mnext\u001b[0m\u001b[0;34m(\u001b[0m\u001b[0;34m)\u001b[0m\u001b[0;34m\u001b[0m\u001b[0m\n\u001b[0m\u001b[1;32m      4\u001b[0m \u001b[0;34m\u001b[0m\u001b[0m\n\u001b[1;32m      5\u001b[0m     \u001b[0mfile\u001b[0m \u001b[0;34m=\u001b[0m \u001b[0mspot\u001b[0m\u001b[0;34m[\u001b[0m\u001b[0;34m'file'\u001b[0m\u001b[0;34m]\u001b[0m\u001b[0;34m\u001b[0m\u001b[0m\n",
      "\u001b[0;32m/Users/krodriguez/anaconda3/envs/autocnet/lib/python3.5/site-packages/pymongo/cursor.py\u001b[0m in \u001b[0;36mnext\u001b[0;34m(self)\u001b[0m\n\u001b[1;32m   1095\u001b[0m                 \u001b[0;32mreturn\u001b[0m \u001b[0mself\u001b[0m\u001b[0;34m.\u001b[0m\u001b[0m__data\u001b[0m\u001b[0;34m.\u001b[0m\u001b[0mpopleft\u001b[0m\u001b[0;34m(\u001b[0m\u001b[0;34m)\u001b[0m\u001b[0;34m\u001b[0m\u001b[0m\n\u001b[1;32m   1096\u001b[0m         \u001b[0;32melse\u001b[0m\u001b[0;34m:\u001b[0m\u001b[0;34m\u001b[0m\u001b[0m\n\u001b[0;32m-> 1097\u001b[0;31m             \u001b[0;32mraise\u001b[0m \u001b[0mStopIteration\u001b[0m\u001b[0;34m\u001b[0m\u001b[0m\n\u001b[0m\u001b[1;32m   1098\u001b[0m \u001b[0;34m\u001b[0m\u001b[0m\n\u001b[1;32m   1099\u001b[0m     \u001b[0m__next__\u001b[0m \u001b[0;34m=\u001b[0m \u001b[0mnext\u001b[0m\u001b[0;34m\u001b[0m\u001b[0m\n",
      "\u001b[0;31mStopIteration\u001b[0m: "
     ]
    }
   ],
   "source": [
    "# %%time\n",
    "for i in range(spot_count):\n",
    "    spot = spots.next()\n",
    "        \n",
    "    file = spot['file']\n",
    "    image_spots.setdefault(file, {'numpts' : spot['nspectra'], 'pts' : []})\n",
    "    \n",
    "    # Get all the fields and convert them fron strings to dicts    \n",
    "    ref1_data = json.loads(spot[\"REF1\"])\n",
    "    ref2_data = json.loads(spot[\"REF2\"])\n",
    "    raw_data = json.loads(spot[\"RAW\"])\n",
    "    qa_data = json.loads(spot[\"QA\"])\n",
    "\n",
    "    \n",
    "    anc_dict = json.loads(spot['ancillarydata'])    \n",
    "    long, lat = anc_dict['CENTER_LONGITUDE'], anc_dict['CENTER_LATITUDE']\n",
    "    meta_data = ancillary_to_bytes(anc_dict)localh\n",
    "\n",
    "    # Get the values from the dict\n",
    "    ref1 = get_ordered_vals(ref1_data)\n",
    "    ref2 = get_ordered_vals(ref2_data)\n",
    "    raw = get_ordered_vals(raw_data)\n",
    "    qa = get_ordered_vals(qa_data)\n",
    "\n",
    "    point = {\n",
    "      'loc' : {'type': \"Point\", 'coordinates': [clamp_longitude(long), lat] },\n",
    "      'ref1' : ref1,\n",
    "      'ref2' : ref2,\n",
    "      'raw' : raw,\n",
    "      'qa' : qa,\n",
    "      'meta' : meta_data,\n",
    "      'file' : file\n",
    "    }\n",
    "    \n",
    "    image_spots[file]['pts'].append(point)\n",
    "    \n",
    "    if image_spots[file]['numpts'] == len(image_spots[file]['pts']):\n",
    "        def centeroidnp(arr):\n",
    "            length = arr.shape[0]\n",
    "            sum_x = np.sum(arr[:, 0])\n",
    "            sum_y = np.sum(arr[:, 1])\n",
    "            return [sum_x/length, sum_y/length]\n",
    "\n",
    "        def locstoline(arr):\n",
    "            x,y = arr.transpose()\n",
    "            return [[min(x), min(y)], [max(x), min(y)]]\n",
    "            \n",
    "        def getfieldavg(field):\n",
    "            points = image['pts']\n",
    "            field_vals = np.asarray([np.frombuffer(point[field], dtype='f4') for point in points])\n",
    "            return np.mean(field_vals, axis=0).tobytes()\n",
    "        \n",
    "        \n",
    "        image = image_spots[file]\n",
    "        locs = np.asarray([point['loc']['coordinates'] for point in image['pts']])\n",
    "        centeroid = centeroidnp(locs)\n",
    "        line = locstoline(locs)\n",
    "        \n",
    "        ref1 = getfieldavg('ref1')\n",
    "        ref2 = getfieldavg('ref2')\n",
    "        raw = getfieldavg('raw')\n",
    "        qa = getfieldavg('qa')\n",
    "        \n",
    "        \n",
    "        image['loc'] = {'type': \"Point\", 'coordinates': centeroid}\n",
    "        image['line'] = {'type': \"LineString\", \"coordinate\": line}\n",
    "        image['ref1'] = ref1\n",
    "        image['ref2'] = ref2\n",
    "        image['raw'] = raw\n",
    "        image['qa'] = qa \n",
    "        \n",
    "        client.selene.images.insert_one(image)\n",
    "        del image_spots[file]    "
   ]
  },
  {
   "cell_type": "code",
   "execution_count": 74,
   "metadata": {
    "collapsed": false,
    "deletable": true,
    "editable": true
   },
   "outputs": [
    {
     "data": {
      "text/plain": [
       "38"
      ]
     },
     "execution_count": 74,
     "metadata": {},
     "output_type": "execute_result"
    }
   ],
   "source": []
  },
  {
   "cell_type": "code",
   "execution_count": 135,
   "metadata": {
    "collapsed": false,
    "deletable": true,
    "editable": true
   },
   "outputs": [
    {
     "data": {
      "text/plain": [
       "ObjectId('57e96d72e7f9c4772e01174b')"
      ]
     },
     "execution_count": 135,
     "metadata": {},
     "output_type": "execute_result"
    }
   ],
   "source": [
    "def ancillary_to_bytes(string):\n",
    "    data = json.loads(string)\n",
    "    return np.array([data[name] for  name in spot_metadata_names], dtype='f4').tobytes()\n",
    "\n",
    "len(get_ordered_vals(json.loads(spots[0][\"REF1\"])))\n",
    "some_spot = spots[10000]\n",
    "some_spot[\"_id\"]\n",
    "\n"
   ]
  },
  {
   "cell_type": "code",
   "execution_count": null,
   "metadata": {
    "collapsed": true,
    "deletable": true,
    "editable": true
   },
   "outputs": [],
   "source": [
    "# get the first spot\n",
    "spot = spots.next()\n",
    "for i in range(num_docs):\n",
    "    # Get all the fields and convert them fron strings to dicts\n",
    "    ref1_data = json.loads(spot[\"REF1\"])\n",
    "    ref2_data = json.loads(spot[\"REF2\"])\n",
    "    raw_data = json.loads(pot[\"RAW\"])\n",
    "    qa_data = json.loads(spot[\"QA\"])    \n",
    "    meta_data = ancillary_to_bytes(spot['ancillarydata'])\n",
    "\n",
    "    file = spot['file']\n",
    "\n",
    "    # Get the values from the dict\n",
    "    ref1 = get_ordered_vals(ref1_data)\n",
    "    ref2 = get_ordered_vals(ref2_data)\n",
    "    raw = get_ordered_vals(raw_data)\n",
    "    qa = get_ordered_vals(qa_data)\n",
    "\n",
    "    # insert the new document\n",
    "    point_data.insert_one({\n",
    "      'loc' : { 'p_key': i, 'type': \"Point\", 'coordinates': [clamp_longitude(meta_data['CENTER_LONGITUDE']), meta_data['CENTER_LATITUDE'] ] },\n",
    "      'ref1' : ref1,\n",
    "      'ref2' : ref2,\n",
    "      'raw' : raw,\n",
    "      'qa' : qa,\n",
    "      'meta' : meta_data,\n",
    "      'file' : file\n",
    "    })\n",
    "    spot = spot_data.next()\n"
   ]
  },
  {
   "cell_type": "code",
   "execution_count": null,
   "metadata": {
    "collapsed": true,
    "deletable": true,
    "editable": true
   },
   "outputs": [],
   "source": []
  },
  {
   "cell_type": "code",
   "execution_count": null,
   "metadata": {
    "collapsed": true,
    "deletable": true,
    "editable": true
   },
   "outputs": [],
   "source": []
  },
  {
   "cell_type": "code",
   "execution_count": null,
   "metadata": {
    "collapsed": true,
    "deletable": true,
    "editable": true
   },
   "outputs": [],
   "source": []
  },
  {
   "cell_type": "code",
   "execution_count": null,
   "metadata": {
    "collapsed": true,
    "deletable": true,
    "editable": true
   },
   "outputs": [],
   "source": []
  }
 ],
 "metadata": {
  "anaconda-cloud": {},
  "kernelspec": {
   "display_name": "Python 3",
   "language": "python",
   "name": "python3"
  },
  "language_info": {
   "codemirror_mode": {
    "name": "ipython",
    "version": 3
   },
   "file_extension": ".py",
   "mimetype": "text/x-python",
   "name": "python",
   "nbconvert_exporter": "python",
   "pygments_lexer": "ipython3",
   "version": "3.5.3"
  },
  "widgets": {
   "state": {},
   "version": "1.1.2"
  }
 },
 "nbformat": 4,
 "nbformat_minor": 1
}
