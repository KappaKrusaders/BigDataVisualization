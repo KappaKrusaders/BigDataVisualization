{
 "cells": [
  {
   "cell_type": "code",
   "execution_count": 12,
   "metadata": {
    "collapsed": false,
    "deletable": true,
    "editable": true
   },
   "outputs": [],
   "source": [
    "# PyMongo for MongoDB queries\n",
    "from pymongo import MongoClient\n",
    "from collections import OrderedDict\n",
    "\n",
    "import os\n",
    "import sys\n",
    "import json\n",
    "\n",
    "sys.path.insert(0, os.path.abspath('../'))\n",
    "\n",
    "# Bokeh + Datashader\n",
    "import datashader as ds\n",
    "import datashader.transfer_functions as tf\n",
    "from datashader.utils import export_image\n",
    "\n",
    "# Import pandas for dataframe support\n",
    "import pandas as pd\n",
    "import json\n",
    "\n",
    "# MatPlotLib for colors and basic plotting\n",
    "import matplotlib.pyplot as plt\n",
    "import matplotlib.colors as colors\n",
    "import numpy as np\n",
    "import warnings\n",
    "\n",
    "from pygs.io.io_spectralprofiler import SpectralProfiler\n",
    "from pygs.utils.utils import hash_string\n",
    "\n",
    "import hashlib\n",
    "warnings.filterwarnings('ignore')"
   ]
  },
  {
   "cell_type": "markdown",
   "metadata": {
    "deletable": true,
    "editable": true
   },
   "source": [
    "## Connecting to The Database\n",
    "\n",
    "First step is to connect to the database...\n",
    "* Create Connection\n",
    "* Setup a query along with a projection\n",
    " * A Projection sets up the fields you want to return from the query\n",
    "* Get the REF1 and location data and compute a Pandas dataframe \n"
   ]
  },
  {
   "cell_type": "code",
   "execution_count": 2,
   "metadata": {
    "collapsed": false,
    "deletable": true,
    "editable": true
   },
   "outputs": [],
   "source": [
    "# Create Connection\n",
    "conn = SpectralProfiler(\"localhost\", 27017)"
   ]
  },
  {
   "cell_type": "code",
   "execution_count": null,
   "metadata": {
    "collapsed": true,
    "deletable": true,
    "editable": true
   },
   "outputs": [],
   "source": []
  },
  {
   "cell_type": "code",
   "execution_count": 3,
   "metadata": {
    "collapsed": false,
    "deletable": true,
    "editable": true
   },
   "outputs": [
    {
     "name": "stdout",
     "output_type": "stream",
     "text": [
      "19285\n"
     ]
    }
   ],
   "source": [
    "# Create some Queries with a projection\n",
    "query, projection = {}, {\"loc\" : True, \"ref2\": True, \"foo\": 1}\n",
    "query2, projection2 = { \"loc\": { \"$geoWithin\": { \"$center\": [[160, -73], 50] }} }, {\"loc\" : True, \"ref2\": { '$slice' : [5, 8] }}\n",
    "\n",
    "# Generate a dataframe from the query\n",
    "data = conn.compute_dataframe(query, projection, field = \"ref2\")\n",
    "print(len(data))"
   ]
  },
  {
   "cell_type": "code",
   "execution_count": 4,
   "metadata": {
    "collapsed": false,
    "deletable": true,
    "editable": true,
    "scrolled": false
   },
   "outputs": [
    {
     "data": {
      "text/html": [
       "<div>\n",
       "<table border=\"1\" class=\"dataframe\">\n",
       "  <thead>\n",
       "    <tr style=\"text-align: right;\">\n",
       "      <th></th>\n",
       "      <th>long</th>\n",
       "      <th>lat</th>\n",
       "      <th>512.6</th>\n",
       "      <th>518.4</th>\n",
       "      <th>524.7</th>\n",
       "      <th>530.4</th>\n",
       "      <th>536.5</th>\n",
       "      <th>542.8</th>\n",
       "      <th>548.7</th>\n",
       "      <th>554.5</th>\n",
       "      <th>...</th>\n",
       "      <th>2516.1</th>\n",
       "      <th>2524.1</th>\n",
       "      <th>2532.1</th>\n",
       "      <th>2540.0</th>\n",
       "      <th>2548.0</th>\n",
       "      <th>2556.0</th>\n",
       "      <th>2564.0</th>\n",
       "      <th>2572.0</th>\n",
       "      <th>2579.9</th>\n",
       "      <th>2587.9</th>\n",
       "    </tr>\n",
       "  </thead>\n",
       "  <tbody>\n",
       "    <tr>\n",
       "      <th>0</th>\n",
       "      <td>154.146185</td>\n",
       "      <td>14.161762</td>\n",
       "      <td>0.042064</td>\n",
       "      <td>0.050623</td>\n",
       "      <td>0.051282</td>\n",
       "      <td>0.053982</td>\n",
       "      <td>0.054723</td>\n",
       "      <td>0.056574</td>\n",
       "      <td>0.057556</td>\n",
       "      <td>0.058833</td>\n",
       "      <td>...</td>\n",
       "      <td>0.217138</td>\n",
       "      <td>0.265795</td>\n",
       "      <td>0.246267</td>\n",
       "      <td>0.281420</td>\n",
       "      <td>0.228613</td>\n",
       "      <td>0.000000</td>\n",
       "      <td>0.280115</td>\n",
       "      <td>0.011944</td>\n",
       "      <td>0.163428</td>\n",
       "      <td>0.000167</td>\n",
       "    </tr>\n",
       "    <tr>\n",
       "      <th>1</th>\n",
       "      <td>155.516532</td>\n",
       "      <td>-6.568198</td>\n",
       "      <td>0.047363</td>\n",
       "      <td>0.057063</td>\n",
       "      <td>0.057847</td>\n",
       "      <td>0.060879</td>\n",
       "      <td>0.061979</td>\n",
       "      <td>0.064082</td>\n",
       "      <td>0.065071</td>\n",
       "      <td>0.066453</td>\n",
       "      <td>...</td>\n",
       "      <td>0.266161</td>\n",
       "      <td>0.245013</td>\n",
       "      <td>0.346061</td>\n",
       "      <td>0.351000</td>\n",
       "      <td>0.269624</td>\n",
       "      <td>0.032339</td>\n",
       "      <td>0.335055</td>\n",
       "      <td>0.006771</td>\n",
       "      <td>0.115884</td>\n",
       "      <td>0.055555</td>\n",
       "    </tr>\n",
       "    <tr>\n",
       "      <th>2</th>\n",
       "      <td>157.354620</td>\n",
       "      <td>-48.767015</td>\n",
       "      <td>0.045528</td>\n",
       "      <td>0.054889</td>\n",
       "      <td>0.055653</td>\n",
       "      <td>0.058439</td>\n",
       "      <td>0.059722</td>\n",
       "      <td>0.061553</td>\n",
       "      <td>0.062562</td>\n",
       "      <td>0.063864</td>\n",
       "      <td>...</td>\n",
       "      <td>0.005633</td>\n",
       "      <td>0.244647</td>\n",
       "      <td>0.320979</td>\n",
       "      <td>0.218926</td>\n",
       "      <td>0.216484</td>\n",
       "      <td>0.103663</td>\n",
       "      <td>0.291951</td>\n",
       "      <td>0.002843</td>\n",
       "      <td>0.011534</td>\n",
       "      <td>0.069517</td>\n",
       "    </tr>\n",
       "    <tr>\n",
       "      <th>3</th>\n",
       "      <td>160.668476</td>\n",
       "      <td>-71.308910</td>\n",
       "      <td>0.024801</td>\n",
       "      <td>0.029914</td>\n",
       "      <td>0.030322</td>\n",
       "      <td>0.031742</td>\n",
       "      <td>0.032514</td>\n",
       "      <td>0.033686</td>\n",
       "      <td>0.034057</td>\n",
       "      <td>0.034713</td>\n",
       "      <td>...</td>\n",
       "      <td>0.000000</td>\n",
       "      <td>0.176362</td>\n",
       "      <td>0.005303</td>\n",
       "      <td>0.308268</td>\n",
       "      <td>0.003445</td>\n",
       "      <td>0.031489</td>\n",
       "      <td>0.031334</td>\n",
       "      <td>0.002900</td>\n",
       "      <td>0.000393</td>\n",
       "      <td>0.005353</td>\n",
       "    </tr>\n",
       "    <tr>\n",
       "      <th>4</th>\n",
       "      <td>150.786067</td>\n",
       "      <td>-44.977130</td>\n",
       "      <td>0.054955</td>\n",
       "      <td>0.066209</td>\n",
       "      <td>0.067113</td>\n",
       "      <td>0.070464</td>\n",
       "      <td>0.072025</td>\n",
       "      <td>0.074207</td>\n",
       "      <td>0.075391</td>\n",
       "      <td>0.076826</td>\n",
       "      <td>...</td>\n",
       "      <td>0.074330</td>\n",
       "      <td>0.190070</td>\n",
       "      <td>0.283630</td>\n",
       "      <td>0.318520</td>\n",
       "      <td>0.266834</td>\n",
       "      <td>0.000663</td>\n",
       "      <td>0.203016</td>\n",
       "      <td>0.000564</td>\n",
       "      <td>0.084887</td>\n",
       "      <td>0.018574</td>\n",
       "    </tr>\n",
       "    <tr>\n",
       "      <th>5</th>\n",
       "      <td>151.799101</td>\n",
       "      <td>-42.246756</td>\n",
       "      <td>0.074012</td>\n",
       "      <td>0.089357</td>\n",
       "      <td>0.090622</td>\n",
       "      <td>0.095084</td>\n",
       "      <td>0.097278</td>\n",
       "      <td>0.100287</td>\n",
       "      <td>0.101708</td>\n",
       "      <td>0.103597</td>\n",
       "      <td>...</td>\n",
       "      <td>0.246664</td>\n",
       "      <td>0.338064</td>\n",
       "      <td>0.307753</td>\n",
       "      <td>0.275888</td>\n",
       "      <td>0.278149</td>\n",
       "      <td>0.000000</td>\n",
       "      <td>0.506747</td>\n",
       "      <td>0.000089</td>\n",
       "      <td>0.160051</td>\n",
       "      <td>0.001314</td>\n",
       "    </tr>\n",
       "    <tr>\n",
       "      <th>6</th>\n",
       "      <td>-16.225430</td>\n",
       "      <td>81.866752</td>\n",
       "      <td>1.008144</td>\n",
       "      <td>0.672074</td>\n",
       "      <td>1.680323</td>\n",
       "      <td>2.016369</td>\n",
       "      <td>1.680331</td>\n",
       "      <td>0.840154</td>\n",
       "      <td>0.840118</td>\n",
       "      <td>1.344249</td>\n",
       "      <td>...</td>\n",
       "      <td>3.651243</td>\n",
       "      <td>5.617341</td>\n",
       "      <td>5.734069</td>\n",
       "      <td>5.198354</td>\n",
       "      <td>1.750397</td>\n",
       "      <td>5.901281</td>\n",
       "      <td>4.849467</td>\n",
       "      <td>1.976674</td>\n",
       "      <td>5.090693</td>\n",
       "      <td>0.167741</td>\n",
       "    </tr>\n",
       "    <tr>\n",
       "      <th>7</th>\n",
       "      <td>151.291321</td>\n",
       "      <td>70.438398</td>\n",
       "      <td>0.051164</td>\n",
       "      <td>0.061372</td>\n",
       "      <td>0.062450</td>\n",
       "      <td>0.065559</td>\n",
       "      <td>0.065830</td>\n",
       "      <td>0.068166</td>\n",
       "      <td>0.070057</td>\n",
       "      <td>0.072003</td>\n",
       "      <td>...</td>\n",
       "      <td>0.359311</td>\n",
       "      <td>0.402488</td>\n",
       "      <td>0.282824</td>\n",
       "      <td>0.489203</td>\n",
       "      <td>0.156684</td>\n",
       "      <td>0.016966</td>\n",
       "      <td>0.339932</td>\n",
       "      <td>0.031550</td>\n",
       "      <td>0.115128</td>\n",
       "      <td>0.003643</td>\n",
       "    </tr>\n",
       "    <tr>\n",
       "      <th>8</th>\n",
       "      <td>150.619141</td>\n",
       "      <td>34.210644</td>\n",
       "      <td>0.057200</td>\n",
       "      <td>0.068756</td>\n",
       "      <td>0.069687</td>\n",
       "      <td>0.073215</td>\n",
       "      <td>0.074041</td>\n",
       "      <td>0.076649</td>\n",
       "      <td>0.078059</td>\n",
       "      <td>0.079862</td>\n",
       "      <td>...</td>\n",
       "      <td>0.283249</td>\n",
       "      <td>0.338441</td>\n",
       "      <td>0.268244</td>\n",
       "      <td>0.258774</td>\n",
       "      <td>0.170115</td>\n",
       "      <td>0.000000</td>\n",
       "      <td>0.453677</td>\n",
       "      <td>0.000000</td>\n",
       "      <td>0.220931</td>\n",
       "      <td>0.000000</td>\n",
       "    </tr>\n",
       "    <tr>\n",
       "      <th>9</th>\n",
       "      <td>155.564475</td>\n",
       "      <td>-9.944801</td>\n",
       "      <td>0.046084</td>\n",
       "      <td>0.055645</td>\n",
       "      <td>0.056379</td>\n",
       "      <td>0.059305</td>\n",
       "      <td>0.060455</td>\n",
       "      <td>0.062495</td>\n",
       "      <td>0.063426</td>\n",
       "      <td>0.064732</td>\n",
       "      <td>...</td>\n",
       "      <td>0.234426</td>\n",
       "      <td>0.284997</td>\n",
       "      <td>0.335068</td>\n",
       "      <td>0.347747</td>\n",
       "      <td>0.226234</td>\n",
       "      <td>0.050318</td>\n",
       "      <td>0.232334</td>\n",
       "      <td>0.023434</td>\n",
       "      <td>0.134503</td>\n",
       "      <td>0.030150</td>\n",
       "    </tr>\n",
       "  </tbody>\n",
       "</table>\n",
       "<p>10 rows × 271 columns</p>\n",
       "</div>"
      ],
      "text/plain": [
       "         long        lat     512.6     518.4     524.7     530.4     536.5  \\\n",
       "0  154.146185  14.161762  0.042064  0.050623  0.051282  0.053982  0.054723   \n",
       "1  155.516532  -6.568198  0.047363  0.057063  0.057847  0.060879  0.061979   \n",
       "2  157.354620 -48.767015  0.045528  0.054889  0.055653  0.058439  0.059722   \n",
       "3  160.668476 -71.308910  0.024801  0.029914  0.030322  0.031742  0.032514   \n",
       "4  150.786067 -44.977130  0.054955  0.066209  0.067113  0.070464  0.072025   \n",
       "5  151.799101 -42.246756  0.074012  0.089357  0.090622  0.095084  0.097278   \n",
       "6  -16.225430  81.866752  1.008144  0.672074  1.680323  2.016369  1.680331   \n",
       "7  151.291321  70.438398  0.051164  0.061372  0.062450  0.065559  0.065830   \n",
       "8  150.619141  34.210644  0.057200  0.068756  0.069687  0.073215  0.074041   \n",
       "9  155.564475  -9.944801  0.046084  0.055645  0.056379  0.059305  0.060455   \n",
       "\n",
       "      542.8     548.7     554.5    ...       2516.1    2524.1    2532.1  \\\n",
       "0  0.056574  0.057556  0.058833    ...     0.217138  0.265795  0.246267   \n",
       "1  0.064082  0.065071  0.066453    ...     0.266161  0.245013  0.346061   \n",
       "2  0.061553  0.062562  0.063864    ...     0.005633  0.244647  0.320979   \n",
       "3  0.033686  0.034057  0.034713    ...     0.000000  0.176362  0.005303   \n",
       "4  0.074207  0.075391  0.076826    ...     0.074330  0.190070  0.283630   \n",
       "5  0.100287  0.101708  0.103597    ...     0.246664  0.338064  0.307753   \n",
       "6  0.840154  0.840118  1.344249    ...     3.651243  5.617341  5.734069   \n",
       "7  0.068166  0.070057  0.072003    ...     0.359311  0.402488  0.282824   \n",
       "8  0.076649  0.078059  0.079862    ...     0.283249  0.338441  0.268244   \n",
       "9  0.062495  0.063426  0.064732    ...     0.234426  0.284997  0.335068   \n",
       "\n",
       "     2540.0    2548.0    2556.0    2564.0    2572.0    2579.9    2587.9  \n",
       "0  0.281420  0.228613  0.000000  0.280115  0.011944  0.163428  0.000167  \n",
       "1  0.351000  0.269624  0.032339  0.335055  0.006771  0.115884  0.055555  \n",
       "2  0.218926  0.216484  0.103663  0.291951  0.002843  0.011534  0.069517  \n",
       "3  0.308268  0.003445  0.031489  0.031334  0.002900  0.000393  0.005353  \n",
       "4  0.318520  0.266834  0.000663  0.203016  0.000564  0.084887  0.018574  \n",
       "5  0.275888  0.278149  0.000000  0.506747  0.000089  0.160051  0.001314  \n",
       "6  5.198354  1.750397  5.901281  4.849467  1.976674  5.090693  0.167741  \n",
       "7  0.489203  0.156684  0.016966  0.339932  0.031550  0.115128  0.003643  \n",
       "8  0.258774  0.170115  0.000000  0.453677  0.000000  0.220931  0.000000  \n",
       "9  0.347747  0.226234  0.050318  0.232334  0.023434  0.134503  0.030150  \n",
       "\n",
       "[10 rows x 271 columns]"
      ]
     },
     "execution_count": 4,
     "metadata": {},
     "output_type": "execute_result"
    }
   ],
   "source": [
    "# Disaply the dataframe\n",
    "data[:10]"
   ]
  },
  {
   "cell_type": "markdown",
   "metadata": {
    "collapsed": false,
    "deletable": true,
    "editable": true
   },
   "source": [
    "## Generate The Image\n",
    "\n",
    "The Dataframe has all the necessary refectance data for all wavelengths. From the lat lon fields and a selection from the wavelenghts, we can generate an image\n"
   ]
  },
  {
   "cell_type": "code",
   "execution_count": 5,
   "metadata": {
    "collapsed": false,
    "deletable": true,
    "editable": true
   },
   "outputs": [],
   "source": [
    "# Generate an image\n",
    "img = conn.compute_image(500, 250, \"Greys\", bg=None)"
   ]
  },
  {
   "cell_type": "code",
   "execution_count": 6,
   "metadata": {
    "collapsed": false,
    "deletable": true,
    "editable": true,
    "scrolled": true
   },
   "outputs": [
    {
     "data": {
      "image/png": "[encoded data removed]",
      "text/plain": [
       "<xarray.Image (y_axis: 250, x_axis: 500)>\n",
       "array([[16777215, 16777215, 16777215, ..., 16777215, 16777215, 16777215],\n",
       "       [16777215, 16777215, 16777215, ..., 16777215, 16777215, 16777215],\n",
       "       [16777215, 16777215, 16777215, ..., 16777215, 16777215, 16777215],\n",
       "       ..., \n",
       "       [16777215, 16777215, 16777215, ..., 16777215, 16777215, 16777215],\n",
       "       [16777215, 16777215, 16777215, ..., 16777215, 16777215, 16777215],\n",
       "       [16777215, 16777215, 16777215, ..., 16777215, 16777215, 16777215]], dtype=uint32)\n",
       "Coordinates:\n",
       "  * y_axis   (y_axis) float64 -89.81 -89.09 -88.37 -87.64 -86.92 -86.2 ...\n",
       "  * x_axis   (x_axis) float64 -178.5 -177.8 -177.1 -176.4 -175.7 -175.0 ..."
      ]
     },
     "execution_count": 6,
     "metadata": {},
     "output_type": "execute_result"
    }
   ],
   "source": [
    "# display it\n",
    "img"
   ]
  },
  {
   "cell_type": "markdown",
   "metadata": {
    "collapsed": false,
    "deletable": true,
    "editable": true
   },
   "source": [
    "## Saving the Image\n",
    "\n",
    "Once the image is computed, it is stored only in memory. To be used over GeoServer, we need to save it as a GeoTiff. GeoTiff is an image format that contains the raster data along with other metadata (footprints, band info, etc.)\n",
    "\n",
    "We do a listing for all .tif images to show that the image is saved on disk\n",
    "\n",
    "Afterwards, we can send the layer name to nayone connected to the GeoServer instance and cache results based on lifespan. "
   ]
  },
  {
   "cell_type": "code",
   "execution_count": 7,
   "metadata": {
    "collapsed": false,
    "deletable": true,
    "editable": true
   },
   "outputs": [],
   "source": [
    "conn.save_image(\"test.tif\")"
   ]
  },
  {
   "cell_type": "code",
   "execution_count": 8,
   "metadata": {
    "collapsed": false,
    "deletable": true,
    "editable": true,
    "scrolled": false
   },
   "outputs": [
    {
     "name": "stdout",
     "output_type": "stream",
     "text": [
      "test.tif\r\n"
     ]
    }
   ],
   "source": [
    "ls *.tif "
   ]
  },
  {
   "cell_type": "code",
   "execution_count": null,
   "metadata": {
    "collapsed": false,
    "deletable": true,
    "editable": true
   },
   "outputs": [],
   "source": []
  },
  {
   "cell_type": "markdown",
   "metadata": {
    "deletable": true,
    "editable": true
   },
   "source": [
    "## Interacting with Geoserver using gsconfig\n",
    "\n",
    "`gsconfig` allows us to interact with Geoserver via its rest API. We now use GeoServer to generate a new layer using the hash from the query used to generate the image. This makes sure we can uniquely identify each layer. If a particular query creates the same hash, then we can return the same data layer of recomputing everything."
   ]
  },
  {
   "cell_type": "code",
   "execution_count": 9,
   "metadata": {
    "collapsed": false,
    "deletable": true,
    "editable": true
   },
   "outputs": [],
   "source": [
    "# import gsconfig stuff\n",
    "import geoserver\n",
    "import geoserver.util\n",
    "from geoserver.catalog import Catalog\n",
    "\n",
    "# connect to the catalog\n",
    "cat = Catalog(\"http://localhost:8080/geoserver/rest/\")"
   ]
  },
  {
   "cell_type": "code",
   "execution_count": 10,
   "metadata": {
    "collapsed": false,
    "deletable": true,
    "editable": true,
    "scrolled": false
   },
   "outputs": [],
   "source": [
    "# get the selene workspace\n",
    "workspace = cat.get_workspace(\"selene\")"
   ]
  },
  {
   "cell_type": "code",
   "execution_count": 16,
   "metadata": {
    "collapsed": false,
    "deletable": true,
    "editable": true
   },
   "outputs": [
    {
     "name": "stdout",
     "output_type": "stream",
     "text": [
      "New layer created: 099c0d43691bcc17dc067e620e9d71c6924715cb6cd0bd5428258246\n"
     ]
    }
   ],
   "source": [
    "pstring = json.dumps(projection)\n",
    "qstring = json.dumps(query)\n",
    "\n",
    "cat.create_coveragestore(hash_string(qstring, pstring), \"test.tif\", workspace,overwrite=True)\n",
    "print(\"New layer created: \" + hash_string(qstring,pstring))"
   ]
  },
  {
   "cell_type": "code",
   "execution_count": 17,
   "metadata": {
    "collapsed": false,
    "deletable": true,
    "editable": true
   },
   "outputs": [
    {
     "data": {
      "text/plain": [
       "['85eadfa1942069af70011c7f6be23cf667056cf1a977f070bc7a00bc',\n",
       " 'f04eb355303e8cd2e8f5583cea1a9e14fceee970deccbff62c7bbb5b',\n",
       " 'images',\n",
       " 'images_alt',\n",
       " 'rest',\n",
       " 'usgs',\n",
       " 'f1df4eca49f22d39d33341d47871c954942be5158c9af8c9dc7adef6',\n",
       " '099c0d43691bcc17dc067e620e9d71c6924715cb6cd0bd5428258246']"
      ]
     },
     "execution_count": 17,
     "metadata": {},
     "output_type": "execute_result"
    }
   ],
   "source": [
    "# Display the current layers\n",
    "[layer.name for layer in cat.get_layers()]"
   ]
  },
  {
   "cell_type": "code",
   "execution_count": null,
   "metadata": {
    "collapsed": false,
    "deletable": true,
    "editable": true
   },
   "outputs": [],
   "source": []
  },
  {
   "cell_type": "code",
   "execution_count": null,
   "metadata": {
    "collapsed": false
   },
   "outputs": [],
   "source": [
    "\n"
   ]
  },
  {
   "cell_type": "code",
   "execution_count": null,
   "metadata": {
    "collapsed": false
   },
   "outputs": [],
   "source": []
  },
  {
   "cell_type": "code",
   "execution_count": null,
   "metadata": {
    "collapsed": true
   },
   "outputs": [],
   "source": []
  }
 ],
 "metadata": {
  "anaconda-cloud": {},
  "kernelspec": {
   "display_name": "Python 3",
   "language": "python",
   "name": "python3"
  },
  "language_info": {
   "codemirror_mode": {
    "name": "ipython",
    "version": 3
   },
   "file_extension": ".py",
   "mimetype": "text/x-python",
   "name": "python",
   "nbconvert_exporter": "python",
   "pygments_lexer": "ipython3",
   "version": "3.5.3"
  },
  "widgets": {
   "state": {},
   "version": "1.1.2"
  }
 },
 "nbformat": 4,
 "nbformat_minor": 0
}
